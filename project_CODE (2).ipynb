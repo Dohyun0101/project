{
 "cells": [
  {
   "cell_type": "markdown",
   "metadata": {
    "id": "1R6EtjrGZyFC"
   },
   "source": [
    "### Load Required Libraries"
   ]
  },
  {
   "cell_type": "code",
   "execution_count": null,
   "metadata": {
    "id": "W5GZjVTuZvYS"
   },
   "outputs": [],
   "source": [
    "import os\n",
    "import openai # Import the 'openai' module directly\n",
    "import json\n",
    "import gradio as gr\n",
    "import requests\n",
    "import xml.etree.ElementTree as ET\n",
    "import Jetson.GPIO as GPIO\n",
    "import time\n",
    "import math"
   ]
  },
  {
   "cell_type": "code",
   "execution_count": null,
   "metadata": {
    "id": "LQDOtcQrfLJg"
   },
   "outputs": [],
   "source": [
    "# Set the API key in environment variables\n",
    "os.environ['OPENAI_API_KEY'] = 'xxxxxxxxxxxxxxxxxxxxxxxxxxxx'\n",
    "\n",
    "# Set the OpenAI API key\n",
    "openai.api_key = os.getenv(\"OPENAI_API_KEY\")\n",
    "\n",
    "# Example API call (Retrieve model list)\n",
    "response = openai.Model.list()\n",
    "print(json.dumps(response, indent=2))"
   ]
  },
  {
   "cell_type": "code",
   "execution_count": null,
   "metadata": {
    "id": "aXIK7IqPdNkH"
   },
   "outputs": [],
   "source": [
    "# Configure Air Korea API\n",
    "API_KEY = \"xxxxxxxxxxxxxxxxxxxxxxxxxxxxxxx\"\n",
    "BASE_URL = \"http://apis.data.go.kr/B552584/ArpltnInforInqireSvc\""
   ]
  },
  {
   "cell_type": "markdown",
   "metadata": {
    "id": "JtXGdjHra5zz"
   },
   "source": [
    "# Gradio Chatbot\n",
    "## Function Definitions\n",
    "\n",
    "\n",
    "*   Functions to load Daejeon fine dust values using the API: get_station_fine_dust(), get_all_fine_dust()\n",
    "*   Functions to load real-time fine dust measurements: measure_pm25()\n",
    "*   Functions to process user messages: process()\n",
    "\n"
   ]
  },
  {
   "cell_type": "code",
   "execution_count": null,
   "metadata": {
    "id": "57jJw5ltZ5EA"
   },
   "outputs": [],
   "source": [
    "# Fetch fine dust (PM2.5) values from Air Korea API\n",
    "# \"http://apis.data.go.kr/B552584/ArpltnInforInqireSvc\"\n",
    "\n",
    "# Retrieve fine dust data for a specific city\n",
    "def get_station_fine_dust(city_name, station_name):\n",
    "    endpoint = f\"{BASE_URL}/getCtprvnRltmMesureDnsty\"\n",
    "    params = {\n",
    "        \"serviceKey\": requests.utils.unquote(API_KEY),\n",
    "        \"returnType\": \"xml\",\n",
    "        \"numOfRows\": 100,\n",
    "        \"pageNo\": 1,\n",
    "        \"sidoName\": city_name,\n",
    "        \"ver\": \"1.3\"\n",
    "    }\n",
    "\n",
    "    response = requests.get(endpoint, params=params)\n",
    "    if response.status_code == 200:\n",
    "        root = ET.fromstring(response.text)\n",
    "        items = root.findall(\".//item\")\n",
    "        for item in items:\n",
    "            station = item.find(\"stationName\").text\n",
    "            if station == station_name:\n",
    "                pm25_value = item.find(\"pm25Value\").text\n",
    "                return pm25_value\n",
    "        return None\n",
    "    else:\n",
    "        return None\n",
    "\n",
    "# Retrieve fine dust data for the entire Daejeon area\n",
    "def get_all_fine_dust(city_name):\n",
    "    endpoint = f\"{BASE_URL}/getCtprvnRltmMesureDnsty\"\n",
    "    params = {\n",
    "        \"serviceKey\": requests.utils.unquote(API_KEY),\n",
    "        \"returnType\": \"xml\",\n",
    "        \"numOfRows\": 100,\n",
    "        \"pageNo\": 1,\n",
    "        \"sidoName\": city_name,\n",
    "        \"ver\": \"1.3\"\n",
    "    }\n",
    "\n",
    "    response = requests.get(endpoint, params=params)\n",
    "    if response.status_code == 200:\n",
    "        root = ET.fromstring(response.text)\n",
    "        items = root.findall(\".//item\")\n",
    "        fine_dust_data = []\n",
    "        for item in items:\n",
    "            station_name = item.find(\"stationName\").text\n",
    "            pm25_value = item.find(\"pm25Value\").text\n",
    "            fine_dust_data.append(f\"측정소: {station_name}, 미세먼지(PM2.5): {pm25_value}㎍/㎥\")\n",
    "        return \"\\n\".join(fine_dust_data)\n",
    "    else:\n",
    "        return f\"API 요청 실패: {response.status_code}\""
   ]
  },
  {
   "cell_type": "code",
   "execution_count": null,
   "metadata": {
    "id": "ZRmf1LoqbmS5"
   },
   "outputs": [],
   "source": [
    "# Real-time fine dust measurement (Jetson GPIO)\n",
    "def measure_pm25(pin=8, sample_time_ms=10000):\n",
    "    GPIO.setmode(GPIO.BCM)\n",
    "    GPIO.setup(pin, GPIO.IN)\n",
    "    low_pulse_occupancy = 0\n",
    "    start_time = time.time()\n",
    "\n",
    "    try:\n",
    "        while (time.time() - start_time) * 1000 <= sample_time_ms:\n",
    "            pulse_start = time.time()\n",
    "            while GPIO.input(pin) == GPIO.LOW:\n",
    "                pass\n",
    "            pulse_end = time.time()\n",
    "            low_pulse_occupancy += (pulse_end - pulse_start) * 1e6\n",
    "\n",
    "        ratio = low_pulse_occupancy / (sample_time_ms * 10.0)\n",
    "        concentration = (\n",
    "            1.1 * 0.22 * math.pow(ratio, 3) -\n",
    "            3.8 * 0.22 * math.pow(ratio, 2) +\n",
    "            520 * 0.22 * ratio +\n",
    "            0.62\n",
    "        ) * 10**-4\n",
    "        return round(concentration, 2)\n",
    "    except Exception as e:\n",
    "        return f\"센서 오류: {e}\"\n",
    "    finally:\n",
    "        GPIO.cleanup()"
   ]
  },
  {
   "cell_type": "code",
   "execution_count": null,
   "metadata": {
    "id": "NqdBFGqkcC70"
   },
   "outputs": [],
   "source": [
    "# Process user messages\n",
    "def process(user_message, chat_history, state):\n",
    "    # Real-time sensor measurement values\n",
    "    sensor_pm25_value = measure_pm25()\n",
    "\n",
    "    # List for extracting specific districts\n",
    "    station_list = [\"읍내동\", \"문평동\", \"문창동\", \"구성동\", \"노은동\", \"상대동(대전)\", \"관평동\", \"대흥동1\", \"성남동1\", \"대성동\", \"정림동\", \"둔산동\", \"월평동\"]\n",
    "\n",
    "    if \"실시간\" in user_message and \"미세먼지\" in user_message:\n",
    "        # Return only real-time measurement data\n",
    "        fine_dust_info = f\"실시간 측정된 미세먼지 농도는 {sensor_pm25_value}㎍/㎥입니다.\"\n",
    "    elif \"미세먼지\" in user_message:\n",
    "        station_name = None\n",
    "        for s in station_list:\n",
    "            if s in user_message:\n",
    "                station_name = s\n",
    "                break\n",
    "\n",
    "        if station_name:\n",
    "            station_pm25_str = get_station_fine_dust(\"대전\", station_name)\n",
    "            if station_pm25_str is None:\n",
    "                fine_dust_info = f\"'{station_name}'에 대한 데이터를 찾을 수 없습니다.\"\n",
    "            else:\n",
    "                # Convert string to float (Handle exceptions if API values are not numeric)\n",
    "                try:\n",
    "                    station_pm25_value = float(station_pm25_str)\n",
    "                    fine_dust_info = f\"{station_name}의 미세먼지(PM2.5) 농도는 {station_pm25_value}㎍/㎥입니다.\\n\"\n",
    "\n",
    "                    # Compare with real-time measurement values\n",
    "                    if isinstance(sensor_pm25_value, (int, float)):\n",
    "                        diff = round(sensor_pm25_value - station_pm25_value, 2)\n",
    "                        if diff > 0:\n",
    "                            fine_dust_info += f\"현재 실내 측정값이 더 높습니다. 미세먼지 농도의 차이값이 {diff}㎍/㎥ 차이가 나며 환기가 필요합니다.\"\n",
    "                        else:\n",
    "                            fine_dust_info += f\"현재 실내 측정값이 더 낮거나 같습니다. 미세먼지 농도의 차이값은 {diff}㎍/㎥ 입니다.\"\n",
    "                    else:\n",
    "                        fine_dust_info += \"실시간 센서 데이터에 오류가 있습니다.\"\n",
    "\n",
    "                except ValueError:\n",
    "                    fine_dust_info = f\"{station_name} 측정값을 변환하는 중 오류가 발생했습니다.\"\n",
    "        else:\n",
    "            # Show data for the entire Daejeon area if no specific district is selected\n",
    "            fine_dust_info = get_all_fine_dust(\"대전\")\n",
    "    else:\n",
    "        fine_dust_info = \"미세먼지 데이터 요청 또는 실시간 데이터를 입력해주세요.\"\n",
    "\n",
    "    chat_history.append((user_message, fine_dust_info))\n",
    "    return \"\", chat_history, state"
   ]
  },
  {
   "cell_type": "code",
   "execution_count": null,
   "metadata": {
    "id": "GGvnm2CAdH4A"
   },
   "outputs": [],
   "source": [
    "# Define Gradio interface\n",
    "with gr.Blocks() as demo:\n",
    "    chatbot = gr.Chatbot(label=\"미세먼지 챗봇\")\n",
    "    user_textbox = gr.Textbox(label=\"질문 입력\")\n",
    "    state = gr.State()\n",
    "\n",
    "    user_textbox.submit(process, [user_textbox, chatbot, state], [user_textbox, chatbot, state])\n",
    "\n",
    "demo.launch(share=True, debug=True)\n"
   ]
  },
  {
   "cell_type": "markdown",
   "metadata": {
    "id": "_TBp3-D6Ymsg"
   },
   "source": [
    "# Notifications Using Discord\n",
    "\n",
    "\n",
    "*   Send notifications through the Discord app if indoor fine dust levels are above or below the threshold.\n",
    "\n"
   ]
  },
  {
   "cell_type": "code",
   "execution_count": null,
   "metadata": {
    "id": "NpzDjqzBYCbZ"
   },
   "outputs": [],
   "source": [
    "!pip install discord\n",
    "!pip install python-dotenv"
   ]
  },
  {
   "cell_type": "code",
   "execution_count": null,
   "metadata": {
    "id": "UTbdpwpKeYQC"
   },
   "outputs": [],
   "source": [
    "import Jetson.GPIO as GPIO\n",
    "import time\n",
    "import math\n",
    "import discord\n",
    "from discord.ext import commands\n",
    "import asyncio\n",
    "import nest_asyncio\n",
    "from dotenv import load_dotenv\n",
    "import os"
   ]
  },
  {
   "cell_type": "code",
   "execution_count": null,
   "metadata": {
    "id": "mWLSqYpIeZhG"
   },
   "outputs": [],
   "source": [
    "# Apply nest_asyncio to make it compatible with Jupyter Notebook's event loop\n",
    "nest_asyncio.apply()\n",
    "\n",
    "# Load environment variables\n",
    "load_dotenv()\n",
    "\n",
    "DISCORD_CHANNEL_ID = \"xxxxxxxxxxxxxxx\"  # Channel ID\n",
    "DISCORD_BOT_TOKEN = \"xxxxxxxxxxxxxxxxxx\"  # Bot token"
   ]
  },
  {
   "cell_type": "code",
   "execution_count": null,
   "metadata": {
    "id": "3uRsq3AFefvw"
   },
   "outputs": [],
   "source": [
    "# Function to measure PM2.5 levels\n",
    "def measure_pm25():\n",
    "    \"\"\"\n",
    "    PM2.5 농도를 측정하여 반환하는 함수.\n",
    "    \"\"\"\n",
    "    pin = 8\n",
    "    sample_time_ms = 30000  # 30-second sampling time\n",
    "\n",
    "    # Initialize GPIO\n",
    "    GPIO.setmode(GPIO.BCM)\n",
    "    GPIO.setup(pin, GPIO.IN)\n",
    "\n",
    "    low_pulse_occupancy = 0\n",
    "    start_time = time.time()\n",
    "\n",
    "    try:\n",
    "        while (time.time() - start_time) * 1000 <= sample_time_ms:\n",
    "            pulse_start = time.time()\n",
    "            while GPIO.input(pin) == GPIO.LOW:\n",
    "                pass\n",
    "            pulse_end = time.time()\n",
    "\n",
    "            # Calculate the duration of the LOW state\n",
    "            pulse_duration = (pulse_end - pulse_start) * 1e6  # In microseconds\n",
    "            low_pulse_occupancy += pulse_duration\n",
    "\n",
    "        # Calculate PM2.5 concentration\n",
    "        ratio = low_pulse_occupancy / (sample_time_ms * 10.0)\n",
    "        concentration = (\n",
    "            1.1*0.22* math.pow(ratio, 3) - 3.8 *0.22* math.pow(ratio, 2) + 520 *0.22* ratio + 0.62\n",
    "        )*10**-4\n",
    "        return round(concentration, 2)\n",
    "\n",
    "    except Exception as e:\n",
    "        print(f\"Error during measurement: {e}\")\n",
    "        return None\n",
    "\n",
    "    finally:\n",
    "        GPIO.cleanup()"
   ]
  },
  {
   "cell_type": "code",
   "execution_count": null,
   "metadata": {
    "id": "_JWNX1TZYGY9"
   },
   "outputs": [],
   "source": [
    "# Configure Discord bot\n",
    "intents = discord.Intents.default()\n",
    "intents.message_content = True\n",
    "bot = commands.Bot(command_prefix='!', intents=intents)\n",
    "\n",
    "@bot.event\n",
    "async def on_ready():\n",
    "    print(f'Bot is ready')\n",
    "    channel = bot.get_channel(DISCORD_CHANNEL_ID)\n",
    "    if channel is None:\n",
    "        print('채널이 없어요 😂')\n",
    "        return\n",
    "    print(f'봇이 {channel}에서 준비되었습니다! 😊')\n",
    "    bot.loop.create_task(pm25_alert(channel))  # Start PM2.5 alert task\n",
    "\n",
    "# Check PM2.5 levels and send notifications\n",
    "async def pm25_alert(channel):\n",
    "    while True:\n",
    "        pm25_concentration = measure_pm25()\n",
    "        if pm25_concentration is not None:\n",
    "            if pm25_concentration > 20:\n",
    "                warning_message = (\n",
    "                    f\"🚨 경고: PM2.5 농도가 {pm25_concentration}㎍/㎥로 위험 수준입니다!\\n\"\n",
    "                    f\"🌬️ 환기가 필요합니다.\"\n",
    "                )\n",
    "                await channel.send(warning_message)\n",
    "            else:\n",
    "                normal_message = (\n",
    "                    f\"✅ 정상: PM2.5 농도가 {pm25_concentration}㎍/㎥로 정상 수준입니다.\"\n",
    "                )\n",
    "                await channel.send(normal_message)\n",
    "        else:\n",
    "            await channel.send(\"❌ PM2.5 농도를 측정할 수 없습니다.\")\n",
    "\n",
    "        await asyncio.sleep(3600)  # Send notifications every hour\n",
    "\n",
    "# Check measurements using bot commands\n",
    "@bot.command()\n",
    "async def check_pm25(ctx):\n",
    "    pm25_concentration = measure_pm25()\n",
    "    if pm25_concentration is not None:\n",
    "        if pm25_concentration > 20:\n",
    "            await ctx.send(\n",
    "                f\"🚨 경고: PM2.5 농도가 {pm25_concentration}㎍/㎥로 위험 수준입니다!\\n!\"\n",
    "                f\"🌬️ 환기가 필요합니다.\"\n",
    "            )\n",
    "        else:\n",
    "            await ctx.send(\n",
    "                f\"✅ 정상: PM2.5 농도가 {pm25_concentration}㎍/㎥로 정상 수준입니다.\"\n",
    "            )\n",
    "    else:\n",
    "        await ctx.send(\"❌ PM2.5 농도를 측정할 수 없습니다.\")\n",
    "\n",
    "bot.run(DISCORD_BOT_TOKEN)"
   ]
  }
 ],
 "metadata": {
  "colab": {
   "provenance": []
  },
  "kernelspec": {
   "display_name": "Python 3",
   "name": "python3"
  },
  "language_info": {
   "name": "python"
  }
 },
 "nbformat": 4,
 "nbformat_minor": 0
}
